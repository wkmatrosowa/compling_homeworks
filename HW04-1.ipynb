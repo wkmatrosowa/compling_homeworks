{
 "cells": [
  {
   "cell_type": "markdown",
   "metadata": {
    "collapsed": true,
    "pycharm": {
     "name": "#%% md\n"
    }
   },
   "source": [
    "## 1 часть домашней работы \n",
    "### Извлечение именнованных сущностей \"Игра для приставки\""
   ]
  },
  {
   "cell_type": "code",
   "execution_count": 1,
   "outputs": [],
   "source": [
    "import pandas as pd\n",
    "from yargy import Parser, rule, or_\n",
    "from yargy.interpretation import fact\n",
    "from yargy.pipelines import morph_pipeline"
   ],
   "metadata": {
    "collapsed": false,
    "pycharm": {
     "name": "#%%\n",
     "is_executing": false
    }
   }
  },
  {
   "cell_type": "code",
   "execution_count": 2,
   "outputs": [],
   "source": [
    "pd.set_option('display.max_colwidth', -1)\n",
    "data = pd.read_csv('pristavki.csv', header=None, names=['text'])"
   ],
   "metadata": {
    "collapsed": false,
    "pycharm": {
     "name": "#%%\n",
     "is_executing": false
    }
   }
  },
  {
   "cell_type": "code",
   "execution_count": 3,
   "outputs": [],
   "source": [
    "class ConsoleGame:\n",
    "    __game = fact(\n",
    "        'Game',\n",
    "        ['name', 'version_number', 'version_name', 'console']\n",
    "    )\n",
    "    __amount_of_games = []\n",
    "\n",
    "    def __init__(self, names: list = [], version_numbers: list = [], version_names: list = [], consoles: list = []):\n",
    "        rules = rule(morph_pipeline(names).interpretation(self.__game.name.const(names[0])),\n",
    "                     morph_pipeline(version_numbers).interpretation(self.__game.version_number).optional(),\n",
    "                     morph_pipeline(version_names).interpretation(self.__game.version_name).optional(),\n",
    "                     morph_pipeline(consoles).interpretation(self.__game.console).optional())\n",
    "        game = or_(rules).interpretation(self.__game)\n",
    "        self.parser = Parser(game)\n",
    "\n",
    "    def matches(self, data):\n",
    "        matches = []\n",
    "\n",
    "        for sent in data.text[:9000]:\n",
    "            for match in self.parser.findall(sent):\n",
    "                matches.append(match.fact)\n",
    "                self.__amount_of_games.append(matches)\n",
    "\n",
    "        for m in matches:\n",
    "            print(m.name, m.version_number, m.version_name, m.console)\n",
    "\n",
    "        print(len(self.__amount_of_games))"
   ],
   "metadata": {
    "collapsed": false,
    "pycharm": {
     "name": "#%%\n",
     "is_executing": false
    }
   }
  },
  {
   "cell_type": "code",
   "execution_count": 4,
   "outputs": [],
   "source": [
    "until_dawn = ConsoleGame(names=['Until Dawn', 'Until dawn', 'until down', 'Дожить До Рассвета', 'Дожить до рассвета'],\n",
    "                         consoles=['PS4', 'Playstation 4', 'PlayStation4', 'PS'])\n",
    "\n",
    "diablo = ConsoleGame(names=['Diablo', 'Дьябло'],\n",
    "                     version_numbers=['1', '2', '3', 'I', 'II', 'III'],\n",
    "                     consoles=['PS4', 'Playstation 4', 'PlayStation4', 'PS3', 'Playstation 3', 'PlayStation3', 'PSP', 'PS'])\n",
    "\n",
    "beyond_ts = ConsoleGame(names=['Beyond: Two Souls', 'Beyond Two Souls', 'Beyond two souls', 'За гранью: Две души', 'за гранью', 'За гранью две души'],\n",
    "                        consoles=['PS4', 'Playstation 4', 'PlayStation4', 'PS3', 'Playstation 3', 'PlayStation3', 'PS'])\n",
    "\n",
    "last_of_us = ConsoleGame(names=['The Last of Us', 'Одни из нас', 'The last of us', 'одни из нас', 'last of us', 'the last of us'],\n",
    "                        consoles=['PS4', 'Playstation 4', 'PlayStation4', 'PS3', 'Playstation 3', 'PlayStation3', 'PS'])\n",
    "\n",
    "fifa = ConsoleGame(names=['FIFA', 'Fifa', 'fifa', 'фифа', 'Фифа', 'ФИФА'],\n",
    "                   version_names=['12', '13', '14', '15', '16', '17', '2012', '2013', '2014', '2015', '2016', '2017'],\n",
    "                    consoles=['PS4', 'Playstation 4', 'PlayStation4', 'PS3', 'Playstation 3', 'PlayStation3', 'PS'])"
   ],
   "metadata": {
    "collapsed": false,
    "pycharm": {
     "name": "#%%\n",
     "is_executing": false
    }
   }
  },
  {
   "cell_type": "code",
   "execution_count": 5,
   "outputs": [
    {
     "name": "stdout",
     "text": [
      "Until Dawn None None None\nUntil Dawn None None None\nUntil Dawn None None None\nUntil Dawn None None None\nUntil Dawn None None None\nUntil Dawn None None None\nUntil Dawn None None None\nUntil Dawn None None None\nUntil Dawn None None None\nUntil Dawn None None None\nUntil Dawn None None None\nUntil Dawn None None None\nUntil Dawn None None None\nUntil Dawn None None None\nUntil Dawn None None None\nUntil Dawn None None None\nUntil Dawn None None None\nUntil Dawn None None None\nUntil Dawn None None None\nUntil Dawn None None None\nUntil Dawn None None None\nUntil Dawn None None None\nUntil Dawn None None None\nUntil Dawn None None None\nUntil Dawn None None None\nUntil Dawn None None None\nUntil Dawn None None None\nUntil Dawn None None None\nUntil Dawn None None None\nUntil Dawn None None None\nUntil Dawn None None None\nUntil Dawn None None None\nUntil Dawn None None None\nUntil Dawn None None None\nUntil Dawn None None None\nUntil Dawn None None None\nUntil Dawn None None None\nUntil Dawn None None None\nUntil Dawn None None None\nUntil Dawn None None PS4\nUntil Dawn None None None\n41\n",
      "Diablo None None None\nDiablo 3 None None\nDiablo 3 None PS4\nDiablo None None None\nDiablo 3 None None\nDiablo 3 None None\nDiablo None None None\nDiablo 3 None None\nDiablo 3 None None\nDiablo III None None\nDiablo 3 None None\nDiablo III None None\nDiablo 2 None None\nDiablo None None None\nDiablo 3 None None\nDiablo 3 None None\nDiablo None None None\nDiablo 3 None None\nDiablo 3 None None\nDiablo 3 None None\nDiablo None None None\nDiablo 3 None None\nDiablo III None PlayStation 4\nDiablo 3 None None\nDiablo None None None\nDiablo 3 None None\nDiablo 3 None None\nDiablo 3 None None\nDiablo 3 None None\nDiablo 3 None None\nDiablo 3 None None\nDiablo 3 None None\nDiablo 3 None None\nDiablo 3 None None\nDiablo None None None\nDiablo 3 None None\nDiablo None None None\nDiablo None None None\nDiablo None None None\nDiablo None None None\nDiablo None None None\nDiablo None None None\nDiablo 3 None None\nDiablo 3 None None\nDiablo III None None\nDiablo III None None\nDiablo None None None\nDiablo 3 None None\nDiablo None None None\nDiablo 3 None None\n91\n",
      "Beyond: Two Souls None None None\nBeyond: Two Souls None None None\nBeyond: Two Souls None None None\nBeyond: Two Souls None None None\nBeyond: Two Souls None None None\nBeyond: Two Souls None None None\nBeyond: Two Souls None None None\nBeyond: Two Souls None None None\nBeyond: Two Souls None None None\nBeyond: Two Souls None None None\nBeyond: Two Souls None None None\nBeyond: Two Souls None None None\nBeyond: Two Souls None None None\nBeyond: Two Souls None None None\nBeyond: Two Souls None None None\nBeyond: Two Souls None None None\nBeyond: Two Souls None None None\nBeyond: Two Souls None None None\nBeyond: Two Souls None None None\nBeyond: Two Souls None None None\nBeyond: Two Souls None None None\nBeyond: Two Souls None None None\nBeyond: Two Souls None None None\nBeyond: Two Souls None None None\nBeyond: Two Souls None None None\nBeyond: Two Souls None None None\nBeyond: Two Souls None None None\nBeyond: Two Souls None None None\nBeyond: Two Souls None None None\nBeyond: Two Souls None None None\nBeyond: Two Souls None None None\nBeyond: Two Souls None None None\nBeyond: Two Souls None None None\nBeyond: Two Souls None None None\nBeyond: Two Souls None None None\nBeyond: Two Souls None None None\nBeyond: Two Souls None None None\nBeyond: Two Souls None None None\nBeyond: Two Souls None None None\nBeyond: Two Souls None None None\nBeyond: Two Souls None None None\nBeyond: Two Souls None None None\nBeyond: Two Souls None None None\nBeyond: Two Souls None None None\nBeyond: Two Souls None None None\nBeyond: Two Souls None None None\nBeyond: Two Souls None None None\nBeyond: Two Souls None None None\nBeyond: Two Souls None None None\nBeyond: Two Souls None None None\nBeyond: Two Souls None None None\nBeyond: Two Souls None None None\nBeyond: Two Souls None None None\n144\n",
      "The Last of Us None None None\nThe Last of Us None None None\nThe Last of Us None None None\nThe Last of Us None None None\nThe Last of Us None None None\nThe Last of Us None None None\nThe Last of Us None None None\nThe Last of Us None None None\nThe Last of Us None None None\nThe Last of Us None None None\nThe Last of Us None None None\nThe Last of Us None None None\nThe Last of Us None None None\nThe Last of Us None None None\nThe Last of Us None None None\nThe Last of Us None None None\nThe Last of Us None None None\nThe Last of Us None None None\nThe Last of Us None None None\nThe Last of Us None None None\nThe Last of Us None None None\nThe Last of Us None None None\nThe Last of Us None None None\nThe Last of Us None None None\nThe Last of Us None None None\nThe Last of Us None None None\nThe Last of Us None None None\nThe Last of Us None None None\nThe Last of Us None None None\nThe Last of Us None None None\nThe Last of Us None None None\nThe Last of Us None None None\nThe Last of Us None None None\nThe Last of Us None None None\nThe Last of Us None None None\nThe Last of Us None None None\nThe Last of Us None None None\nThe Last of Us None None None\nThe Last of Us None None None\nThe Last of Us None None None\nThe Last of Us None None None\nThe Last of Us None None None\nThe Last of Us None None None\nThe Last of Us None None None\nThe Last of Us None None None\nThe Last of Us None None None\nThe Last of Us None None None\nThe Last of Us None None None\nThe Last of Us None None None\nThe Last of Us None None None\nThe Last of Us None None None\nThe Last of Us None None None\nThe Last of Us None None None\nThe Last of Us None None None\nThe Last of Us None None None\nThe Last of Us None None None\nThe Last of Us None None None\nThe Last of Us None None None\nThe Last of Us None None None\nThe Last of Us None None None\nThe Last of Us None None None\nThe Last of Us None None None\nThe Last of Us None None None\nThe Last of Us None None None\nThe Last of Us None None None\nThe Last of Us None None None\nThe Last of Us None None None\nThe Last of Us None None None\nThe Last of Us None None None\nThe Last of Us None None None\nThe Last of Us None None None\nThe Last of Us None None None\nThe Last of Us None None None\nThe Last of Us None None None\nThe Last of Us None None None\nThe Last of Us None None None\nThe Last of Us None None None\nThe Last of Us None None None\nThe Last of Us None None None\nThe Last of Us None None None\nThe Last of Us None None None\nThe Last of Us None None None\nThe Last of Us None None None\nThe Last of Us None None None\nThe Last of Us None None None\nThe Last of Us None None None\nThe Last of Us None None None\nThe Last of Us None None None\nThe Last of Us None None None\nThe Last of Us None None None\nThe Last of Us None None None\nThe Last of Us None None None\nThe Last of Us None None None\nThe Last of Us None None None\nThe Last of Us None None None\nThe Last of Us None None None\nThe Last of Us None None None\nThe Last of Us None None None\nThe Last of Us None None None\nThe Last of Us None None None\nThe Last of Us None None None\nThe Last of Us None None None\nThe Last of Us None None None\nThe Last of Us None None None\nThe Last of Us None None None\nThe Last of Us None None None\nThe Last of Us None None None\nThe Last of Us None None None\nThe Last of Us None None None\nThe Last of Us None None None\nThe Last of Us None None None\nThe Last of Us None None None\nThe Last of Us None None None\nThe Last of Us None None None\nThe Last of Us None None None\nThe Last of Us None None None\nThe Last of Us None None None\nThe Last of Us None None None\nThe Last of Us None None None\nThe Last of Us None None None\nThe Last of Us None None None\nThe Last of Us None None None\nThe Last of Us None None None\nThe Last of Us None None None\nThe Last of Us None None None\nThe Last of Us None None None\nThe Last of Us None None None\nThe Last of Us None None None\nThe Last of Us None None None\nThe Last of Us None None None\nThe Last of Us None None None\nThe Last of Us None None None\nThe Last of Us None None None\nThe Last of Us None None None\nThe Last of Us None None None\nThe Last of Us None None None\nThe Last of Us None None None\nThe Last of Us None None None\nThe Last of Us None None None\nThe Last of Us None None None\nThe Last of Us None None None\nThe Last of Us None None None\nThe Last of Us None None None\nThe Last of Us None None None\nThe Last of Us None None None\nThe Last of Us None None None\nThe Last of Us None None None\nThe Last of Us None None None\nThe Last of Us None None None\nThe Last of Us None None None\nThe Last of Us None None None\nThe Last of Us None None None\nThe Last of Us None None None\nThe Last of Us None None None\nThe Last of Us None None None\nThe Last of Us None None None\nThe Last of Us None None None\nThe Last of Us None None None\nThe Last of Us None None None\nThe Last of Us None None None\nThe Last of Us None None None\nThe Last of Us None None None\nThe Last of Us None None None\nThe Last of Us None None None\nThe Last of Us None None None\nThe Last of Us None None None\nThe Last of Us None None None\nThe Last of Us None None None\nThe Last of Us None None None\nThe Last of Us None None None\nThe Last of Us None None None\nThe Last of Us None None None\nThe Last of Us None None None\nThe Last of Us None None None\nThe Last of Us None None None\nThe Last of Us None None None\n320\n",
      "FIFA None 15 None\nFIFA None 16 None\nFIFA None 2014 None\nFIFA None 11 None\nFIFA None 15 None\nFIFA None None None\nFIFA None None None\nFIFA None 16 None\nFIFA None 13 None\nFIFA None 16 None\nFIFA None None None\nFIFA None 16 None\nFIFA None 15 None\nFIFA None None None\nFIFA None 17 None\nFIFA None 15 None\nFIFA None 16 None\nFIFA None 15 None\nFIFA None 16 None\nFIFA None 17 None\nFIFA None 17 None\nFIFA None 17 None\nFIFA None 14 None\nFIFA None 14 None\nFIFA None 15 PS 4\nFIFA None None None\nFIFA None 12 None\nFIFA None 14 None\nFIFA None 16 None\nFIFA None 15 None\nFIFA None 15 None\nFIFA None 2017 None\nFIFA None 15 None\nFIFA None 15 None\nFIFA None 15 None\nFIFA None 17 None\nFIFA None None None\nFIFA None 2012 None\nFIFA None 15 None\nFIFA None 17 None\nFIFA None 15 None\nFIFA None 16 None\nFIFA None 13 None\nFIFA None 16 None\nFIFA None 17 None\nFIFA None 14 None\nFIFA None 17 None\nFIFA None 15 None\nFIFA None 2016 None\nFIFA None 16 None\nFIFA None 15 None\nFIFA None 15 None\nFIFA None None None\nFIFA None 2015 None\nFIFA None 13 None\nFIFA None None None\nFIFA None 15 None\nFIFA None 17 None\nFIFA None 15 None\nFIFA None None None\nFIFA None 16 None\nFIFA None 16 None\nFIFA None 17 None\nFIFA None None None\nFIFA None 17 None\nFIFA None 17 None\nFIFA None 14 None\nFIFA None 15 None\nFIFA None 16 None\nFIFA None 16 None\nFIFA None None None\nFIFA None 15 None\nFIFA None 17 None\nFIFA None 14 None\nFIFA None 15 None\nFIFA None 14 None\nFIFA None 2011 None\nFIFA None None None\nFIFA None 14 None\nFIFA None 13 None\nFIFA None 13 None\nFIFA None 15 None\nFIFA None 13 None\nFIFA None 14 None\nFIFA None 2017 None\nFIFA None 15 None\nFIFA None None None\nFIFA None 17 None\nFIFA None 15 None\nFIFA None 17 None\nFIFA None 17 None\nFIFA None 17 None\nFIFA None 16 None\nFIFA None 15 None\nFIFA None None None\nFIFA None 16 None\nFIFA None 15 None\nFIFA None 15 None\nFIFA None None None\nFIFA None 10 None\nFIFA None 11 None\nFIFA None 13 None\nFIFA None None None\nFIFA None 16 None\nFIFA None 17 None\nFIFA None 15 None\nFIFA None 15 None\nFIFA None 15 None\nFIFA None 16 None\nFIFA None 13 None\nFIFA None 15 None\nFIFA None 16 None\nFIFA None None None\nFIFA None 17 None\nFIFA None 2016 None\nFIFA None 16 None\nFIFA None 17 None\nFIFA None 14 None\nFIFA None 15 None\nFIFA None 2015 None\nFIFA None 15 None\nFIFA None 15 None\nFIFA None 17 None\nFIFA None 17 None\nFIFA None 17 None\nFIFA None 17 None\nFIFA None 16 None\nFIFA None 14 None\nFIFA None 2017 None\nFIFA None None None\nFIFA None 14 None\nFIFA None None None\nFIFA None None None\nFIFA None 14 None\nFIFA None 17 None\nFIFA None 16 None\nFIFA None 14 None\nFIFA None None None\nFIFA None 16 None\nFIFA None 17 None\nFIFA None 16 None\nFIFA None 17 None\nFIFA None 15 None\nFIFA None 16 None\nFIFA None 14 None\nFIFA None 15 None\nFIFA None 16 None\nFIFA None 2010 None\nFIFA None 10 None\nFIFA None 16 None\nFIFA None 15 None\nFIFA None 17 None\nFIFA None 17 None\nFIFA None 14 None\nFIFA None None None\nFIFA None 16 None\nFIFA None 2016 None\nFIFA None 14 None\nFIFA None 16 None\nFIFA None 16 None\nFIFA None 17 None\nFIFA None 15 None\nFIFA None None None\nFIFA None 17 None\nFIFA None 14 None\nFIFA None 10 None\nFIFA None 17 None\nFIFA None 16 None\nFIFA None 10 None\nFIFA None 17 None\nFIFA None 14 None\nFIFA None None None\nFIFA None None None\nFIFA None None None\nFIFA None 16 None\nFIFA None 17 None\nFIFA None 16 None\nFIFA None 17 None\nFIFA None 15 None\nFIFA None None None\nFIFA None None None\nFIFA None None None\nFIFA None 13 None\nFIFA None 16 None\nFIFA None 14 None\nFIFA None 17 None\nFIFA None 14 None\nFIFA None 17 None\nFIFA None 17 None\nFIFA None 14 None\nFIFA None 15 None\nFIFA None 14 None\nFIFA None 15 None\nFIFA None 15 None\nFIFA None 16 None\nFIFA None 17 None\nFIFA None 15 None\nFIFA None 16 None\nFIFA None 13 None\nFIFA None 15 None\nFIFA None 17 None\nFIFA None 14 None\nFIFA None 15 None\nFIFA None 16 None\nFIFA None 16 None\nFIFA None None None\nFIFA None 17 None\nFIFA None None None\nFIFA None 14 None\nFIFA None 17 None\nFIFA None 13 None\nFIFA None 17 None\nFIFA None 17 None\nFIFA None 14 None\nFIFA None 16 None\nFIFA None 17 None\nFIFA None 11 None\nFIFA None 13 None\nFIFA None 16 None\nFIFA None 15 None\nFIFA None None None\nFIFA None 12 None\nFIFA None None None\nFIFA None 16 None\nFIFA None 14 None\nFIFA None None None\nFIFA None 13 None\nFIFA None None None\nFIFA None 17 None\nFIFA None 16 None\nFIFA None 17 None\nFIFA None 15 None\nFIFA None 14 None\nFIFA None 15 None\nFIFA None 17 None\nFIFA None None None\nFIFA None 16 None\nFIFA None 17 None\nFIFA None None None\nFIFA None 12 None\nFIFA None 17 None\nFIFA None None None\nFIFA None 15 None\nFIFA None 16 None\nFIFA None 13 None\nFIFA None 13 None\nFIFA None None None\nFIFA None 2017 None\nFIFA None 17 None\nFIFA None 15 None\nFIFA None 14 None\nFIFA None None None\nFIFA None 17 None\nFIFA None 15 None\nFIFA None 17 None\nFIFA None 17 None\nFIFA None 15 None\nFIFA None 17 None\nFIFA None 15 None\nFIFA None 17 None\nFIFA None None None\nFIFA None None None\nFIFA None 16 None\nFIFA None 15 None\nFIFA None 2017 None\nFIFA None 17 None\nFIFA None 17 None\nFIFA None 16 None\nFIFA None None None\nFIFA None 15 None\nFIFA None 2010 None\nFIFA None None None\nFIFA None 10 None\nFIFA None 11 None\nFIFA None 13 None\nFIFA None 14 None\nFIFA None 15 None\nFIFA None None None\nFIFA None None None\nFIFA None 17 None\nFIFA None 15 None\nFIFA None 17 None\nFIFA None 14 None\nFIFA None 2015 None\nFIFA None 2017 None\nFIFA None 17 None\nFIFA None 16 None\nFIFA None 15 None\nFIFA None 16 None\nFIFA None 14 None\nFIFA None 15 None\nFIFA None 16 None\nFIFA None 13 None\nFIFA None None None\nFIFA None 2017 None\nFIFA None 16 None\nFIFA None 10 None\nFIFA None 2016 None\nFIFA None 15 None\nFIFA None 15 None\nFIFA None None None\nFIFA None 17 None\nFIFA None 14 None\nFIFA None 15 None\nFIFA None 17 None\nFIFA None 2016 None\nFIFA None None None\nFIFA None 17 None\nFIFA None 15 None\nFIFA None 2017 None\nFIFA None 17 None\nFIFA None 2016 None\nFIFA None None None\nFIFA None 2016 None\nFIFA None 17 None\nFIFA None 16 None\nFIFA None 17 None\nFIFA None 13 None\nFIFA None None None\nFIFA None 17 None\nFIFA None 17 None\nFIFA None 17 None\nFIFA None None None\nFIFA None 17 None\nFIFA None 14 None\nFIFA None 16 None\nFIFA None 17 None\nFIFA None 14 None\nFIFA None 15 None\nFIFA None 17 None\nFIFA None 16 None\nFIFA None 17 None\nFIFA None 2017 None\nFIFA None 16 None\nFIFA None 16 None\nFIFA None 17 None\nFIFA None None None\nFIFA None 16 None\nFIFA None 14 None\nFIFA None 16 None\nFIFA None None None\nFIFA None 15 None\nFIFA None 14 None\nFIFA None 16 None\nFIFA None 16 None\nFIFA None None None\nFIFA None 16 None\nFIFA None 17 None\nFIFA None 2013 None\nFIFA None 14 None\nFIFA None 14 None\nFIFA None 14 None\nFIFA None 16 None\nFIFA None 17 None\nFIFA None 16 None\nFIFA None 15 None\nFIFA None 16 None\nFIFA None None None\nFIFA None None None\nFIFA None 14 None\nFIFA None None None\nFIFA None None None\nFIFA None None None\nFIFA None None None\nFIFA None 17 None\nFIFA None 17 None\nFIFA None 16 None\nFIFA None 16 None\nFIFA None 17 None\nFIFA None 17 None\nFIFA None 2017 PS4\nFIFA None 17 None\nFIFA None 12 None\nFIFA None 15 None\nFIFA None 17 None\nFIFA None 15 None\nFIFA None 2016 None\nFIFA None 17 None\nFIFA None 17 None\nFIFA None 16 None\nFIFA None 17 None\nFIFA None None None\nFIFA None 16 None\nFIFA None 17 None\nFIFA None 2017 None\nFIFA None 15 None\nFIFA None 2014 None\nFIFA None 17 None\nFIFA None 17 None\nFIFA None 16 None\nFIFA None 15 None\nFIFA None 17 None\nFIFA None None None\nFIFA None 17 None\nFIFA None 15 None\nFIFA None 17 None\nFIFA None 17 None\nFIFA None 16 None\nFIFA None 15 None\nFIFA None 16 None\nFIFA None 17 None\nFIFA None 15 None\nFIFA None 13 None\nFIFA None 14 None\nFIFA None 15 None\nFIFA None 16 None\nFIFA None 15 None\nFIFA None 17 None\nFIFA None 17 None\nFIFA None 14 None\nFIFA None 15 None\nFIFA None 11 None\nFIFA None 16 None\nFIFA None 2015 None\nFIFA None 16 None\nFIFA None None None\nFIFA None 14 None\nFIFA None 15 None\nFIFA None 17 None\nFIFA None 2017 None\nFIFA None 17 None",
      "\nFIFA None 16 None\nFIFA None None None\nFIFA None 12 None\nFIFA None 17 None\nFIFA None 16 None\nFIFA None 13 None\nFIFA None None None\nFIFA None 15 None\nFIFA None 14 None\nFIFA None 15 None\nFIFA None 14 None\nFIFA None 15 None\nFIFA None 17 None\nFIFA None None None\nFIFA None 16 None\nFIFA None 14 None\nFIFA None 15 None\nFIFA None 17 None\nFIFA None 13 None\nFIFA None 14 None\nFIFA None 15 None\nFIFA None None None\nFIFA None 2016 None\nFIFA None 16 None\nFIFA None None None\nFIFA None 16 None\nFIFA None 17 None\nFIFA None 16 None\nFIFA None 14 None\nFIFA None 15 None\nFIFA None 12 None\nFIFA None 15 None\nFIFA None 16 None\nFIFA None 15 None\nFIFA None 13 None\nFIFA None 17 None\nFIFA None 15 None\nFIFA None None None\nFIFA None 13 None\nFIFA None None None\nFIFA None 14 None\nFIFA None 17 None\nFIFA None 11 None\nFIFA None 15 None\nFIFA None 15 None\nFIFA None 17 None\nFIFA None 14 None\nFIFA None 17 None\nFIFA None None None\nFIFA None 16 None\nFIFA None 17 None\nFIFA None 15 None\nFIFA None 15 None\nFIFA None 15 None\nFIFA None 15 None\nFIFA None None None\nFIFA None 17 None\nFIFA None 12 None\nFIFA None 14 None\nFIFA None 17 None\nFIFA None 17 None\nFIFA None 17 None\nFIFA None 10 None\nFIFA None 16 None\nFIFA None 17 None\nFIFA None 15 None\nFIFA None 17 None\nFIFA None 16 None\nFIFA None 17 None\nFIFA None 12 None\nFIFA None 12 None\nFIFA None 16 None\nFIFA None 17 None\nFIFA None 17 None\nFIFA None 15 None\nFIFA None 17 None\nFIFA None 16 None\nFIFA None 14 None\nFIFA None 15 None\nFIFA None 13 None\nFIFA None None None\nFIFA None 15 None\nFIFA None 17 None\nFIFA None None None\nFIFA None None None\nFIFA None 13 None\nFIFA None 17 None\nFIFA None 14 None\nFIFA None 17 None\nFIFA None 16 None\nFIFA None 17 None\nFIFA None 15 None\nFIFA None 2017 None\nFIFA None 17 None\nFIFA None None None\nFIFA None None None\nFIFA None 14 None\n838\n"
     ],
     "output_type": "stream"
    }
   ],
   "source": [
    "until_dawn.matches(data)\n",
    "diablo.matches(data)\n",
    "beyond_ts.matches(data)\n",
    "last_of_us.matches(data)\n",
    "fifa.matches(data)"
   ],
   "metadata": {
    "collapsed": false,
    "pycharm": {
     "name": "#%%\n",
     "is_executing": false
    }
   }
  }
 ],
 "metadata": {
  "kernelspec": {
   "display_name": "Python 3",
   "language": "python",
   "name": "python3"
  },
  "language_info": {
   "codemirror_mode": {
    "name": "ipython",
    "version": 2
   },
   "file_extension": ".py",
   "mimetype": "text/x-python",
   "name": "python",
   "nbconvert_exporter": "python",
   "pygments_lexer": "ipython2",
   "version": "2.7.6"
  },
  "pycharm": {
   "stem_cell": {
    "cell_type": "raw",
    "source": [],
    "metadata": {
     "collapsed": false
    }
   }
  }
 },
 "nbformat": 4,
 "nbformat_minor": 0
}