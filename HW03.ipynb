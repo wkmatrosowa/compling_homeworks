{
 "cells": [
  {
   "cell_type": "markdown",
   "metadata": {
    "collapsed": true,
    "pycharm": {
     "name": "#%% md\n"
    }
   },
   "source": [
    "# Задание 1.\n",
    "\n",
    "## Реализация алгоритма SymSpell"
   ]
  },
  {
   "cell_type": "code",
   "execution_count": 8,
   "outputs": [
    {
     "name": "stderr",
     "text": [
      "[nltk_data] Downloading package punkt to\n[nltk_data]     /Users/vladislavasan/nltk_data...\n[nltk_data]   Package punkt is already up-to-date!\n[nltk_data] Downloading package stopwords to\n[nltk_data]     /Users/vladislavasan/nltk_data...\n[nltk_data]   Package stopwords is already up-to-date!\n[nltk_data] Downloading package punkt to\n[nltk_data]     /Users/vladislavasan/nltk_data...\n[nltk_data]   Package punkt is already up-to-date!\n[nltk_data] Downloading package stopwords to\n[nltk_data]     /Users/vladislavasan/nltk_data...\n[nltk_data]   Package stopwords is already up-to-date!\n"
     ],
     "output_type": "stream"
    }
   ],
   "source": [
    "import re\n",
    "import nltk\n",
    "from nltk.tokenize import sent_tokenize\n",
    "nltk.download('punkt')\n",
    "nltk.download('stopwords')\n",
    "from collections import Counter\n",
    "from string import punctuation\n",
    "from threegrams import get_threegrams_from_text\n",
    "\n",
    "start = '<start>'\n",
    "end = '<end>'\n",
    "\n",
    "\n",
    "punctuation += \"«»—…“”\"\n",
    "punct = set(punctuation)\n",
    "import gzip\n",
    "import csv\n",
    "\n",
    "from sklearn.metrics import classification_report\n",
    "\n",
    "bad = open('mistakes.txt').read().splitlines()\n",
    "true = open('correct.txt').read().splitlines()\n",
    "\n",
    "# corpus = open('corpus_5000.txt', 'w')\n",
    "# with gzip.open('lenta-ru-news.csv.gz', 'rt') as archive:\n",
    "#     reader = csv.reader(archive, delimiter=',', quotechar='\"')\n",
    "#     for i, line in enumerate(reader):\n",
    "#         if i < 5000: \n",
    "#             corpus.write(line[2].replace('\\xa0', ' ') + '\\n')\n",
    "\n",
    "def normalize(text):\n",
    "    normalized_text = [(word.strip(punctuation)) for word \\\n",
    "                       in text.lower().split()]\n",
    "    normalized_text = [word for word in normalized_text if word]\n",
    "    return normalized_text\n",
    "\n",
    "\n",
    "corpus = []\n",
    "for text in open('corpus_5000.txt').read().splitlines():\n",
    "    sents = sent_tokenize(text)\n",
    "    norm_sents = [normalize(sent) for sent in sents]\n",
    "    corpus += norm_sents\n",
    "\n",
    "WORDS = Counter()\n",
    "for sent in corpus:\n",
    "    WORDS.update(sent)\n",
    "\n",
    "N = sum(WORDS.values())\n",
    "def P(word, N=N):\n",
    "    return WORDS[word] / N\n",
    "\n",
    "vocabulary1 = {} \n",
    "for sent in corpus:\n",
    "    for word in sent:\n",
    "        if word not in vocabulary1:\n",
    "            vocabulary1[word] = P(word)\n",
    "        else:\n",
    "            vocabulary1[word] += 1\n",
    "\n",
    "vocabulary2 = {}  \n",
    "for key in vocabulary1.keys():\n",
    "    for sym in key:\n",
    "        word_with_del = key.replace(sym, '')\n",
    "        if word_with_del in vocabulary2:\n",
    "            vocabulary2[word_with_del].append(key)\n",
    "        else:\n",
    "            vocabulary2[word_with_del] = [key]\n",
    "\n",
    "def algoritm(word):\n",
    "\n",
    "    wordforms = []\n",
    "    wordforms_keys = []\n",
    "    candidates = {}\n",
    "    best_candidate = []\n",
    "    \n",
    "    if word in vocabulary1:  #если слово есть в словаре норм слов, возвращаем его\n",
    "        return word\n",
    "    else:  #иначе – удаляем по 1 символу\n",
    "        for sym in word:\n",
    "            word_with_del = word.replace(sym, '')\n",
    "            wordforms.append(word_with_del)  # добавляем полученные словоформы в список\n",
    "        for wordform in wordforms:\n",
    "            if wordform in vocabulary2:  # если полученные словоформы есть в словаре ошибок, то добавляем их в новый список\n",
    "                wordforms_keys.extend(vocabulary2[wordform])\n",
    "                \n",
    "        for candidate in wordforms_keys: #проходимся по потенциальным кандидатам\n",
    "            if candidate not in candidates: #если потенциальный кандидат не в списке кандидатов, то\n",
    "                candidates[candidate] = P(candidate) #добавляем его в словарь кандидатов\n",
    "            else:\n",
    "                candidates[candidate] += 1\n",
    "\n",
    "        sorted_values = sorted(candidates, key=candidates.get)\n",
    "        best_candidate.append(sorted_values[0])\n",
    "        return best_candidate"
   ],
   "metadata": {
    "collapsed": false,
    "pycharm": {
     "name": "#%%\n",
     "is_executing": false
    }
   }
  },
  {
   "cell_type": "code",
   "execution_count": 9,
   "outputs": [
    {
     "data": {
      "text/plain": "['кашка']"
     },
     "metadata": {},
     "output_type": "execute_result",
     "execution_count": 9
    }
   ],
   "source": [
    "algoritm('кафка')"
   ],
   "metadata": {
    "collapsed": false,
    "pycharm": {
     "name": "#%%\n",
     "is_executing": false
    }
   }
  },
  {
   "cell_type": "markdown",
   "source": [
    "Оценим метриками качества"
   ],
   "metadata": {
    "collapsed": false,
    "pycharm": {
     "name": "#%% md\n"
    }
   }
  },
  {
   "cell_type": "code",
   "execution_count": 10,
   "outputs": [
    {
     "name": "stdout",
     "text": [
      "0\n100\n200\n300\n400\n500\n600\n700\n800\n900\n              precision    recall  f1-score   support\n\n           0       0.98      0.86      0.92      8707\n           1       0.49      0.91      0.64      1303\n\n    accuracy                           0.86     10010\n   macro avg       0.74      0.88      0.78     10010\nweighted avg       0.92      0.86      0.88     10010\n\n0.5685314685314685\n0.0\n0.3463879637073619\n"
     ],
     "output_type": "stream"
    }
   ],
   "source": [
    "\n",
    "def algoritm(word):\n",
    "    wordforms = []\n",
    "    wordforms_keys = []\n",
    "    candidates = {}\n",
    "    best_candidate = []\n",
    "\n",
    "    if word in vocabulary1:  # если слово есть в словаре норм слов, возвращаем его\n",
    "        return word\n",
    "    else:  # иначе – удаляем по 1 символу\n",
    "        for sym in word:\n",
    "            word_with_del = word.replace(sym, '')\n",
    "            wordforms.append(word_with_del)  # добавляем полученные словоформы в список\n",
    "        for wordform in wordforms:\n",
    "            if wordform in vocabulary2:  # если полученные словоформы есть в словаре ошибок, то добавляем их в новый список\n",
    "                wordforms_keys.extend(vocabulary2[wordform])\n",
    "\n",
    "        for candidate in wordforms_keys:  # проходимся по потенциальным кандидатам\n",
    "            if candidate not in candidates:  # если потенциальный кандидат не в списке кандидатов, то\n",
    "                candidates[candidate] = P(candidate)  # добавляем его в словарь кандидатов\n",
    "            else:\n",
    "                candidates[candidate] += 1\n",
    "\n",
    "        sorted_values = sorted(candidates, key=candidates.get)\n",
    "        best_candidate.append(sorted_values)\n",
    "        return best_candidate\n",
    "\n",
    "def align_words(sent_1, sent_2):\n",
    "    tokens_1 = sent_1.lower().split()\n",
    "    tokens_2 = sent_2.lower().split()\n",
    "\n",
    "    tokens_1 = [re.sub('(^\\W+|\\W+$)', '', token) for token in tokens_1 if (set(token) - punct)]\n",
    "    tokens_2 = [re.sub('(^\\W+|\\W+$)', '', token) for token in tokens_2 if (set(token) - punct)]\n",
    "\n",
    "    return list(zip(tokens_1, tokens_2))\n",
    "\n",
    "\n",
    "vocab = set()\n",
    "\n",
    "for sent in corpus:\n",
    "    vocab.update(sent)\n",
    "\n",
    "def predict_mistaken(word, vocab):\n",
    "\n",
    "    if word in vocab:\n",
    "        return 0\n",
    "    else:\n",
    "        return 1\n",
    "\n",
    "y_true = []\n",
    "y_pred = []\n",
    "\n",
    "for i in range(len(true)):\n",
    "    word_pairs = align_words(true[i], bad[i])\n",
    "    for pair in word_pairs:\n",
    "        if pair[0] == pair[1]:\n",
    "            y_true.append(0)\n",
    "        else:\n",
    "            y_true.append(1)\n",
    "\n",
    "        y_pred.append(predict_mistaken(pair[1], vocab))\n",
    "\n",
    "correct = 0\n",
    "total = 0\n",
    "\n",
    "total_mistaken = 0\n",
    "mistaken_fixed = 0\n",
    "\n",
    "total_correct = 0\n",
    "correct_broken = 0\n",
    "\n",
    "cashed = {}\n",
    "for i in range(len(true)):\n",
    "    word_pairs = align_words(true[i], bad[i])\n",
    "    for pair in word_pairs:\n",
    "        predicted = cashed.get(pair[1], algoritm(pair[1]))\n",
    "        cashed[pair[0]] = predicted\n",
    "        if predicted == pair[0]:\n",
    "            correct += 1\n",
    "        total += 1\n",
    "\n",
    "        if pair[0] == pair[1]:\n",
    "            total_correct += 1\n",
    "            if pair[0] != predicted:\n",
    "                correct_broken += 1\n",
    "        else:\n",
    "            total_mistaken += 1\n",
    "            if pair[0] == predicted:\n",
    "                mistaken_fixed += 1\n",
    "\n",
    "    if not i % 100:\n",
    "        print(i)\n",
    "\n",
    "print(classification_report(y_true, y_pred))\n",
    "print(correct/total)\n",
    "print(mistaken_fixed/total_mistaken)\n",
    "print(correct_broken/total_correct)"
   ],
   "metadata": {
    "collapsed": false,
    "pycharm": {
     "name": "#%%\n",
     "is_executing": false
    }
   }
  },
  {
   "cell_type": "markdown",
   "source": [
    "# Задание 2\n",
    "\n",
    "## Реализация этого алгоритма с триграммной моделью"
   ],
   "metadata": {
    "collapsed": false,
    "pycharm": {
     "name": "#%% md\n"
    }
   }
  },
  {
   "cell_type": "code",
   "execution_count": 11,
   "outputs": [
    {
     "name": "stdout",
     "text": [
      "# Ключ ломает все: inc.(аффилированная\n",
      "# Ключ ломает все: главредства(вначале\n# Ключ ломает все: lofficiel),но\n",
      "# Ключ ломает все: у***ном\n",
      "# Ключ ломает все: u(1\n# Ключ ломает все: su(3\n# Ключ ломает все: su(2\n",
      "# Ключ ломает все: конкордия\"(верхний\n# Ключ ломает все: сегодня(10.11.2018\n",
      "['симпатичнейшое', 'шпионское', 'устройство', 'такой', 'себе', 'гламурный', 'фотоаппарат', 'девушки', 'бонда', 'миниатюрная', 'модель', 'камеры', 'superheadz', 'clap', 'camera', 'опофеозом', 'дня', 'для', 'меня', 'сегодня', 'стала', 'фраза', 'услышанная', 'в', 'новостях', 'пояним', 'эту', 'мысль', 'полчатся', 'вот', 'такие', 'язычки', 'в', 'массе', 'своей', 'они', 'конечно', 'все', 'оччччень', 'милые', 'нащщот', 'чавеса', 'разве', 'что', 'не', 'соглашусь', 'многие', 'сетуют', 'на', 'отсуствие', 'живого', 'взаимодействия', 'между', 'учеником', 'и', 'учителем', 'а', 'в', 'чем', 'оно', 'по', 'сути', 'основая', 'цель', 'мероприятия', 'практическая', 'отработка', 'навыков', 'по', 'оказанию', 'помощи', 'гражданам', 'попавшим', 'в', 'дтп', 'а', 'также', 'повышение', 'и', 'совершенствование', 'уровня', 'профессиональной', 'подготовки', 'сотрудников', 'мчс', 'при', 'проведении', 'аварийно-спасательных', 'работ', 'по', 'ликвидации', 'последствий', 'дорожно-транспортных', 'происшествий', 'сокращение', 'временных', 'показателей', 'реагирования', 'нарасно', 'выброшенные', 'деньги', 'на', 'билет', 'в', 'кинотеатр', 'вобщем', 'как', 'вы', 'знаете', 'из', 'моего', 'не', 'давнего', 'поста', 'я', 'жаловался', 'на', 'пропажу', 'писем', 'с', 'моего', 'ящека', 'на', 'почте.ру']\nBAD: симпатичнейшое\nCandidates: []\n!!! Не починили симпатичнейшое\nBAD: гламурный\nCandidates: []\n!!! Не починили гламурный\nBAD: фотоаппарат\nCandidates: []\n!!! Не починили фотоаппарат\nBAD: миниатюрная\nCandidates: []\n!!! Не починили миниатюрная\nBAD: superheadz\nCandidates: []\n!!! Не починили superheadz\nBAD: опофеозом\nCandidates: []\n!!! Не починили опофеозом\nBAD: услышанная\nCandidates: []\n!!! Не починили услышанная\nBAD: пояним\nCandidates: []\n!!! Не починили пояним\nBAD: полчатся\nCandidates: []\n!!! Не починили полчатся\nBAD: язычки\nCandidates: []\n!!! Не починили язычки\nBAD: оччччень\nCandidates: ['олень', 'осень', 'очень']\nУспех! Заменили оччччень на очень\nBAD: нащщот\nCandidates: []\n!!! Не починили нащщот\nBAD: отсуствие\nCandidates: ['отсутствие']\nУспех! Заменили отсуствие на отсутствие\nBAD: основая\nCandidates: ['носовая', 'основам', 'основал', 'сосновая', 'основная']\n!!! Не починили основая\nBAD: практическая\nCandidates: []\n!!! Не починили практическая\nBAD: аварийно-спасательных\nCandidates: []\n!!! Не починили аварийно-спасательных\nBAD: нарасно\nCandidates: []\n!!! Не починили нарасно\nBAD: вобщем\nCandidates: ['общему']\n!!! Не починили вобщем\nBAD: ящека\nCandidates: ['ящика', 'щетка', 'щенка']\nУспех! Заменили ящека на ящика\nсимпатичнейшое шпионское устройство такой себе гламурный фотоаппарат девушки бонда миниатюрная модель камеры superheadz clap camera опофеозом дня для меня сегодня стала фраза услышанная в новостях пояним эту мысль полчатся вот такие язычки в массе своей они конечно все очень милые нащщот чавеса разве что не соглашусь многие сетуют на отсутствие живого взаимодействия между учеником и учителем а в чем оно по сути основая цель мероприятия практическая отработка навыков по оказанию помощи гражданам попавшим в дтп а также повышение и совершенствование уровня профессиональной подготовки сотрудников мчс при проведении аварийно-спасательных работ по ликвидации последствий дорожно-транспортных происшествий сокращение временных показателей реагирования нарасно выброшенные деньги на билет в кинотеатр вобщем как вы знаете из моего не давнего поста я жаловался на пропажу писем с моего ящика\n"
     ],
     "output_type": "stream"
    },
    {
     "traceback": [
      "\u001b[0;31m---------------------------------------------------------------------------\u001b[0m",
      "\u001b[0;31mTypeError\u001b[0m                                 Traceback (most recent call last)",
      "\u001b[0;32m<ipython-input-11-5bf979601bb3>\u001b[0m in \u001b[0;36m<module>\u001b[0;34m\u001b[0m\n\u001b[1;32m    131\u001b[0m \u001b[0;34m\u001b[0m\u001b[0m\n\u001b[1;32m    132\u001b[0m \u001b[0;34m\u001b[0m\u001b[0m\n\u001b[0;32m--> 133\u001b[0;31m \u001b[0mprint\u001b[0m\u001b[0;34m(\u001b[0m\u001b[0mrun\u001b[0m\u001b[0;34m(\u001b[0m\u001b[0mbad\u001b[0m\u001b[0;34m)\u001b[0m\u001b[0;34m)\u001b[0m\u001b[0;34m[\u001b[0m\u001b[0;34m:\u001b[0m\u001b[0;36m10\u001b[0m\u001b[0;34m]\u001b[0m\u001b[0;34m\u001b[0m\u001b[0;34m\u001b[0m\u001b[0m\n\u001b[0m\u001b[1;32m    134\u001b[0m \u001b[0;34m\u001b[0m\u001b[0m\n",
      "\u001b[0;31mTypeError\u001b[0m: 'NoneType' object is not subscriptable"
     ],
     "ename": "TypeError",
     "evalue": "'NoneType' object is not subscriptable",
     "output_type": "error"
    }
   ],
   "source": [
    "bad = \". \".join(open('mistakes.txt').read().splitlines()[:10])\n",
    "true = \". \".join(open('correct.txt').read().splitlines()[:10])\n",
    "\n",
    "def normalize(text):\n",
    "    normalized_text = [(word.strip(punctuation)) for word \\\n",
    "                       in text.lower().split()]\n",
    "    normalized_text = [word for word in normalized_text if word]\n",
    "    return normalized_text\n",
    "\n",
    "\n",
    "corpus = []\n",
    "for text in open('corpus_5000.txt').read().splitlines():\n",
    "    sents = sent_tokenize(text)\n",
    "    norm_sents = [normalize(sent) for sent in sents]\n",
    "    corpus += norm_sents\n",
    "\n",
    "WORDS = Counter()\n",
    "for sent in corpus:\n",
    "    WORDS.update(sent)\n",
    "\n",
    "N = sum(WORDS.values())\n",
    "\n",
    "\n",
    "def P(word, N=N):\n",
    "    return WORDS[word] / N\n",
    "\n",
    "\n",
    "threegramms = get_threegrams_from_text(true)\n",
    "\n",
    "vocabulary_words_with_frequency = {}\n",
    "for sent in corpus:\n",
    "    for word in sent:\n",
    "        if word not in vocabulary_words_with_frequency:\n",
    "            vocabulary_words_with_frequency[word] = P(word)\n",
    "        else:\n",
    "            vocabulary_words_with_frequency[word] += 1\n",
    "\n",
    "vocabulary_wrong_form_with_variants = {}\n",
    "vocabulary_words_with_threegrams = {}\n",
    "for key in vocabulary_words_with_frequency.keys():\n",
    "    for sym in key:\n",
    "        word_with_del = key.replace(sym, '')\n",
    "        if word_with_del in vocabulary_wrong_form_with_variants:\n",
    "            vocabulary_wrong_form_with_variants[word_with_del].append(key)\n",
    "        else:\n",
    "            vocabulary_wrong_form_with_variants[word_with_del] = [key]\n",
    "    for tg in threegramms:\n",
    "        try:\n",
    "            if re.search(r\"\\b\" + key + r\"\\b\", tg) is not None:\n",
    "                if key in vocabulary_words_with_threegrams:\n",
    "                    vocabulary_words_with_threegrams[key].append(tg)\n",
    "                else:\n",
    "                    vocabulary_words_with_threegrams[key] = [tg]\n",
    "        except Exception:\n",
    "            # непонятно, как автоматически экранировать спецсимволы\n",
    "            print('# Ключ ломает все: ' + key)\n",
    "            break\n",
    "\n",
    "\n",
    "def algoritm(word):\n",
    "    wordforms = []\n",
    "    wordforms_keys = []\n",
    "    candidates = {}\n",
    "\n",
    "    if word in vocabulary_words_with_frequency:  # если слово есть в словаре норм слов, возвращаем его\n",
    "        return [word]\n",
    "    else:  # иначе – удаляем по 1 символу\n",
    "        for sym in word:\n",
    "            word_with_del = word.replace(sym, '')\n",
    "            wordforms.append(word_with_del)  # добавляем полученные словоформы в список\n",
    "        for wordform in wordforms:\n",
    "            if wordform in vocabulary_wrong_form_with_variants:  # если полученные словоформы есть в словаре ошибок, то добавляем их в новый список\n",
    "                wordforms_keys.extend(vocabulary_wrong_form_with_variants[wordform])\n",
    "\n",
    "        for candidate in wordforms_keys:  # проходимся по потенциальным кандидатам\n",
    "            if candidate not in candidates:  # если потенциальный кандидат не в списке кандидатов, то\n",
    "                candidates[candidate] = P(candidate)  # добавляем его в словарь кандидатов\n",
    "            else:\n",
    "                candidates[candidate] += 1\n",
    "\n",
    "        sorted_values = sorted(candidates, key=candidates.get)\n",
    "        return sorted_values\n",
    "\n",
    "\n",
    "def run(text):\n",
    "    correct_text = []\n",
    "    words = normalize(text)\n",
    "    i = 0\n",
    "    len_words = len(words)\n",
    "    print(words)\n",
    "    while i < len_words - 2:\n",
    "        local_words = [words[i], words[i + 1], words[i + 2]]\n",
    "        check_if_bad_word = -1\n",
    "        for index, word in enumerate(local_words):\n",
    "            if word not in vocabulary_words_with_frequency:\n",
    "                check_if_bad_word = index\n",
    "                break\n",
    "        if check_if_bad_word != -1:\n",
    "            print('BAD: ' + local_words[check_if_bad_word])\n",
    "            candidates = algoritm(local_words[check_if_bad_word])\n",
    "            is_fixed = False\n",
    "            print('Candidates: ' + str(candidates))\n",
    "            for cand in candidates:\n",
    "                local_words[check_if_bad_word] = cand\n",
    "                tg = \" \".join(local_words)\n",
    "                if cand in vocabulary_words_with_threegrams and tg in vocabulary_words_with_threegrams[cand]:\n",
    "                    correct_text.extend(local_words)\n",
    "                    is_fixed = True\n",
    "                    print(\"Успех! Заменили \" + words[i + check_if_bad_word] + \" на \" + local_words[check_if_bad_word])\n",
    "                    break\n",
    "            if not is_fixed:\n",
    "                local_words[check_if_bad_word] = words[i + check_if_bad_word]\n",
    "                print('!!! Не починили ' + local_words[check_if_bad_word])\n",
    "                correct_text.extend(local_words)\n",
    "            i = i + 3\n",
    "        else:\n",
    "            correct_text.append(local_words[0])\n",
    "            i = i + 1\n",
    "\n",
    "    return \" \".join(correct_text)\n",
    "\n",
    "\n",
    "print(run(bad))"
   ],
   "metadata": {
    "collapsed": false,
    "pycharm": {
     "name": "#%%\n",
     "is_executing": false
    }
   }
  },
  {
   "cell_type": "markdown",
   "source": [
    "Проверим на улучшение качества"
   ],
   "metadata": {
    "collapsed": false,
    "pycharm": {
     "name": "#%% md\n"
    }
   }
  },
  {
   "cell_type": "code",
   "execution_count": 12,
   "outputs": [
    {
     "name": "stdout",
     "text": [
      "0\n100\n200\n300\n400\n500\n600\n700\n800\n900\n              precision    recall  f1-score   support\n\n           0       0.12      0.90      0.22        77\n           1       0.92      0.16      0.27       576\n\n    accuracy                           0.25       653\n   macro avg       0.52      0.53      0.25       653\nweighted avg       0.83      0.25      0.27       653\n\n0.0\n0.0\n1.0\n"
     ],
     "output_type": "stream"
    }
   ],
   "source": [
    "def align_words(sent_1, sent_2):\n",
    "    tokens_1 = sent_1.lower().split()\n",
    "    tokens_2 = sent_2.lower().split()\n",
    "\n",
    "    tokens_1 = [re.sub('(^\\W+|\\W+$)', '', token) for token in tokens_1 if (set(token) - punct)]\n",
    "    tokens_2 = [re.sub('(^\\W+|\\W+$)', '', token) for token in tokens_2 if (set(token) - punct)]\n",
    "\n",
    "    return list(zip(tokens_1, tokens_2))\n",
    "\n",
    "\n",
    "vocab = set()\n",
    "\n",
    "for sent in corpus:\n",
    "    vocab.update(sent)\n",
    "\n",
    "def predict_mistaken(word, vocab):\n",
    "\n",
    "    if word in vocab:\n",
    "        return 0\n",
    "    else:\n",
    "        return 1\n",
    "\n",
    "y_true = []\n",
    "y_pred = []\n",
    "\n",
    "for i in range(len(true)):\n",
    "    word_pairs = align_words(true[i], bad[i])\n",
    "    for pair in word_pairs:\n",
    "        if pair[0] == pair[1]:\n",
    "            y_true.append(0)\n",
    "        else:\n",
    "            y_true.append(1)\n",
    "\n",
    "        y_pred.append(predict_mistaken(pair[1], vocab))\n",
    "\n",
    "correct = 0\n",
    "total = 0\n",
    "\n",
    "total_mistaken = 0\n",
    "mistaken_fixed = 0\n",
    "\n",
    "total_correct = 0\n",
    "correct_broken = 0\n",
    "\n",
    "cashed = {}\n",
    "for i in range(len(true)):\n",
    "    word_pairs = align_words(true[i], bad[i])\n",
    "    for pair in word_pairs:\n",
    "        predicted = cashed.get(pair[1], algoritm(pair[1]))\n",
    "        cashed[pair[0]] = predicted\n",
    "        if predicted == pair[0]:\n",
    "            correct += 1\n",
    "        total += 1\n",
    "\n",
    "        if pair[0] == pair[1]:\n",
    "            total_correct += 1\n",
    "            if pair[0] != predicted:\n",
    "                correct_broken += 1\n",
    "        else:\n",
    "            total_mistaken += 1\n",
    "            if pair[0] == predicted:\n",
    "                mistaken_fixed += 1\n",
    "\n",
    "    if not i % 100:\n",
    "        print(i)\n",
    "\n",
    "print(classification_report(y_true, y_pred))\n",
    "print(correct/total)\n",
    "print(mistaken_fixed/total_mistaken)\n",
    "print(correct_broken/total_correct)"
   ],
   "metadata": {
    "collapsed": false,
    "pycharm": {
     "name": "#%%\n",
     "is_executing": false
    }
   }
  }
 ],
 "metadata": {
  "language_info": {
   "codemirror_mode": {
    "name": "ipython",
    "version": 2
   },
   "file_extension": ".py",
   "mimetype": "text/x-python",
   "name": "python",
   "nbconvert_exporter": "python",
   "pygments_lexer": "ipython2",
   "version": "2.7.6"
  },
  "kernelspec": {
   "name": "python3",
   "language": "python",
   "display_name": "Python 3"
  },
  "pycharm": {
   "stem_cell": {
    "cell_type": "raw",
    "source": [],
    "metadata": {
     "collapsed": false
    }
   }
  }
 },
 "nbformat": 4,
 "nbformat_minor": 0
}