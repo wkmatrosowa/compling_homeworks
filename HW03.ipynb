{
 "cells": [
  {
   "cell_type": "markdown",
   "metadata": {
    "collapsed": true,
    "pycharm": {
     "name": "#%% md\n"
    }
   },
   "source": [
    "# Задание 1.\n",
    "\n",
    "## Реализация алгоритма SymSpell"
   ]
  },
  {
   "cell_type": "code",
   "execution_count": 1,
   "outputs": [
    {
     "name": "stderr",
     "text": [
      "[nltk_data] Downloading package punkt to\n[nltk_data]     /Users/vladislavasan/nltk_data...\n[nltk_data]   Package punkt is already up-to-date!\n[nltk_data] Downloading package stopwords to\n[nltk_data]     /Users/vladislavasan/nltk_data...\n[nltk_data]   Package stopwords is already up-to-date!\n[nltk_data] Downloading package punkt to\n[nltk_data]     /Users/vladislavasan/nltk_data...\n[nltk_data]   Package punkt is already up-to-date!\n[nltk_data] Downloading package stopwords to\n[nltk_data]     /Users/vladislavasan/nltk_data...\n[nltk_data]   Package stopwords is already up-to-date!\n"
     ],
     "output_type": "stream"
    }
   ],
   "source": [
    "import re\n",
    "import nltk\n",
    "from nltk.tokenize import sent_tokenize\n",
    "nltk.download('punkt')\n",
    "nltk.download('stopwords')\n",
    "from collections import Counter\n",
    "from string import punctuation\n",
    "from threegrams import get_threegrams_from_text\n",
    "\n",
    "start = '<start>'\n",
    "end = '<end>'\n",
    "\n",
    "\n",
    "punctuation += \"«»—…“”\"\n",
    "punct = set(punctuation)\n",
    "import gzip\n",
    "import csv\n",
    "\n",
    "bad = open('mistakes.txt').read()\n",
    "good = open('correct.txt').read()\n",
    "\n",
    "# corpus = open('corpus_5000.txt', 'w')\n",
    "# with gzip.open('lenta-ru-news.csv.gz', 'rt') as archive:\n",
    "#     reader = csv.reader(archive, delimiter=',', quotechar='\"')\n",
    "#     for i, line in enumerate(reader):\n",
    "#         if i < 5000: \n",
    "#             corpus.write(line[2].replace('\\xa0', ' ') + '\\n')\n",
    "\n",
    "def normalize(text):\n",
    "    normalized_text = [(word.strip(punctuation)) for word \\\n",
    "                       in text.lower().split()]\n",
    "    normalized_text = [word for word in normalized_text if word]\n",
    "    return normalized_text\n",
    "\n",
    "\n",
    "corpus = []\n",
    "for text in open('corpus_5000.txt').read().splitlines():\n",
    "    sents = sent_tokenize(text)\n",
    "    norm_sents = [normalize(sent) for sent in sents]\n",
    "    corpus += norm_sents\n",
    "\n",
    "WORDS = Counter()\n",
    "for sent in corpus:\n",
    "    WORDS.update(sent)\n",
    "\n",
    "N = sum(WORDS.values())\n",
    "def P(word, N=N):\n",
    "    return WORDS[word] / N\n",
    "\n",
    "vocabulary1 = {} \n",
    "for sent in corpus:\n",
    "    for word in sent:\n",
    "        if word not in vocabulary1:\n",
    "            vocabulary1[word] = P(word)\n",
    "        else:\n",
    "            vocabulary1[word] += 1\n",
    "\n",
    "vocabulary2 = {}  \n",
    "for key in vocabulary1.keys():\n",
    "    for sym in key:\n",
    "        word_with_del = key.replace(sym, '')\n",
    "        if word_with_del in vocabulary2:\n",
    "            vocabulary2[word_with_del].append(key)\n",
    "        else:\n",
    "            vocabulary2[word_with_del] = [key]\n",
    "\n",
    "def algoritm_for_words(word):\n",
    "\n",
    "    wordforms = []\n",
    "    wordforms_keys = []\n",
    "    candidates = {}\n",
    "    best_candidate = []\n",
    "    \n",
    "    if word in vocabulary1:  #если слово есть в словаре норм слов, возвращаем его\n",
    "        return word\n",
    "    else:  #иначе – удаляем по 1 символу\n",
    "        for sym in word:\n",
    "            word_with_del = word.replace(sym, '')\n",
    "            wordforms.append(word_with_del)  # добавляем полученные словоформы в список\n",
    "        for wordform in wordforms:\n",
    "            if wordform in vocabulary2:  # если полученные словоформы есть в словаре ошибок, то добавляем их в новый список\n",
    "                wordforms_keys.extend(vocabulary2[wordform])\n",
    "                \n",
    "        for candidate in wordforms_keys: #проходимся по потенциальным кандидатам\n",
    "            if candidate not in candidates: #если потенциальный кандидат не в списке кандидатов, то\n",
    "                candidates[candidate] = P(candidate) #добавляем его в словарь кандидатов\n",
    "            else:\n",
    "                candidates[candidate] += 1\n",
    "\n",
    "        sorted_values = sorted(candidates, key=candidates.get)\n",
    "        best_candidate.append(sorted_values[0])\n",
    "        return best_candidate"
   ],
   "metadata": {
    "collapsed": false,
    "pycharm": {
     "name": "#%%\n",
     "is_executing": false
    }
   }
  },
  {
   "cell_type": "code",
   "execution_count": 2,
   "outputs": [
    {
     "data": {
      "text/plain": "['кашка']"
     },
     "metadata": {},
     "output_type": "execute_result",
     "execution_count": 2
    }
   ],
   "source": [
    "algoritm_for_words('кафка')"
   ],
   "metadata": {
    "collapsed": false,
    "pycharm": {
     "name": "#%%\n",
     "is_executing": false
    }
   }
  },
  {
   "cell_type": "code",
   "execution_count": null,
   "outputs": [],
   "source": [
    "def algoritm_for_text(text):\n",
    "\n",
    "    wordforms = []\n",
    "    wordforms_keys = []\n",
    "    candidates = {}\n",
    "    sentences = []\n",
    "    \n",
    "    text = normalize(text)\n",
    "    for word in text:\n",
    "        if word in vocabulary1:  #если слово есть в словаре норм слов, возвращаем его\n",
    "            sentences.append(word)\n",
    "        else:  #иначе – удаляем по 1 символу\n",
    "            for sym in word:\n",
    "                word_with_del = word.replace(sym, '')\n",
    "                wordforms.append(word_with_del)  # добавляем полученные словоформы в список\n",
    "            for wordform in wordforms:\n",
    "                if wordform in vocabulary2:  # если полученные словоформы есть в словаре ошибок, то добавляем их в новый список\n",
    "                    wordforms_keys.extend(vocabulary2[wordform])\n",
    "\n",
    "            candidates = Counter(wordforms_keys)\n",
    "            top = candidates.most_common(1)\n",
    "            sentences.append(top)\n",
    "                \n",
    "\n",
    "    \n",
    "algoritm_for_text(bad)"
   ],
   "metadata": {
    "collapsed": false,
    "pycharm": {
     "name": "#%%\n",
     "is_executing": true
    }
   }
  },
  {
   "cell_type": "markdown",
   "source": [
    "Оценим метриками качества"
   ],
   "metadata": {
    "collapsed": false,
    "pycharm": {
     "name": "#%% md\n"
    }
   }
  },
  {
   "cell_type": "code",
   "execution_count": null,
   "outputs": [],
   "source": [
    "    \n",
    "def align_words(sent_1, sent_2):\n",
    "    tokens_1 = sent_1.lower().split()\n",
    "    tokens_2 = sent_2.lower().split()\n",
    "    \n",
    "    tokens_1 = [re.sub('(^\\W+|\\W+$)', '', token) for token in tokens_1 if (set(token)-punct)]\n",
    "    tokens_2 = [re.sub('(^\\W+|\\W+$)', '', token) for token in tokens_2 if (set(token)-punct)]\n",
    "    \n",
    "    return list(zip(tokens_1, tokens_2))\n",
    "\n",
    "alignes = [align_words(g, b) for g, b in zip(good, bad)]\n",
    "\n",
    "correct = 0\n",
    "total = 0\n",
    "\n",
    "total_mistaken = 0\n",
    "mistaken_fixed = 0\n",
    "\n",
    "total_correct = 0\n",
    "correct_broken = 0\n",
    "\n",
    "for align in alignes:\n",
    "    correct_sentence = [tok[0] for tok in align]\n",
    "    bad_sentence = [tok[1] for tok in align]\n",
    "    predicted_sentence = algoritm_for_text(bad_sentence)\n",
    "    for i in range(len(predicted_sentence)):\n",
    "        if predicted_sentence[i] == correct_sentence[i]:\n",
    "            correct += 1\n",
    "        total += 1\n",
    "        \n",
    "        if correct_sentence[i] == bad_sentence[i]:\n",
    "            total_correct += 1\n",
    "            if correct_sentence[i] != predicted_sentence[i]:\n",
    "                correct_broken += 1\n",
    "        else:\n",
    "            total_mistaken += 1\n",
    "            if correct_sentence[i] == predicted_sentence[i]:\n",
    "                mistaken_fixed += 1\n",
    "\n",
    "print(correct/total)\n",
    "print(mistaken_fixed/total_mistaken)\n",
    "print(correct_broken/total_correct)"
   ],
   "metadata": {
    "collapsed": false,
    "pycharm": {
     "name": "#%%\n",
     "is_executing": true
    }
   }
  },
  {
   "cell_type": "markdown",
   "source": [
    "# Задание 2\n",
    "\n",
    "## Реализация этого алгоритма с триграммной моделью"
   ],
   "metadata": {
    "collapsed": false,
    "pycharm": {
     "name": "#%% md\n"
    }
   }
  },
  {
   "cell_type": "code",
   "execution_count": null,
   "outputs": [],
   "source": [
    "bad = \". \".join(open('mistakes.txt').read().splitlines()[:10])\n",
    "true = \". \".join(open('correct.txt').read().splitlines()[:10])\n",
    "\n",
    "def normalize(text):\n",
    "    normalized_text = [(word.strip(punctuation)) for word \\\n",
    "                       in text.lower().split()]\n",
    "    normalized_text = [word for word in normalized_text if word]\n",
    "    return normalized_text\n",
    "\n",
    "\n",
    "corpus = []\n",
    "for text in open('corpus_5000.txt').read().splitlines():\n",
    "    sents = sent_tokenize(text)\n",
    "    norm_sents = [normalize(sent) for sent in sents]\n",
    "    corpus += norm_sents\n",
    "\n",
    "WORDS = Counter()\n",
    "for sent in corpus:\n",
    "    WORDS.update(sent)\n",
    "\n",
    "N = sum(WORDS.values())\n",
    "\n",
    "\n",
    "def P(word, N=N):\n",
    "    return WORDS[word] / N\n",
    "\n",
    "\n",
    "threegramms = get_threegrams_from_text(true)\n",
    "\n",
    "vocabulary_words_with_frequency = {}\n",
    "for sent in corpus:\n",
    "    for word in sent:\n",
    "        if word not in vocabulary_words_with_frequency:\n",
    "            vocabulary_words_with_frequency[word] = P(word)\n",
    "        else:\n",
    "            vocabulary_words_with_frequency[word] += 1\n",
    "\n",
    "vocabulary_wrong_form_with_variants = {}\n",
    "vocabulary_words_with_threegrams = {}\n",
    "for key in vocabulary_words_with_frequency.keys():\n",
    "    for sym in key:\n",
    "        word_with_del = key.replace(sym, '')\n",
    "        if word_with_del in vocabulary_wrong_form_with_variants:\n",
    "            vocabulary_wrong_form_with_variants[word_with_del].append(key)\n",
    "        else:\n",
    "            vocabulary_wrong_form_with_variants[word_with_del] = [key]\n",
    "    for tg in threegramms:\n",
    "        try:\n",
    "            if re.search(r\"\\b\" + key + r\"\\b\", tg) is not None:\n",
    "                if key in vocabulary_words_with_threegrams:\n",
    "                    vocabulary_words_with_threegrams[key].append(tg)\n",
    "                else:\n",
    "                    vocabulary_words_with_threegrams[key] = [tg]\n",
    "        except Exception:\n",
    "            # непонятно, как автоматически экранировать спецсимволы\n",
    "            print('# Ключ ломает все: ' + key)\n",
    "            break\n",
    "\n",
    "\n",
    "def algoritm(word):\n",
    "    wordforms = []\n",
    "    wordforms_keys = []\n",
    "    candidates = {}\n",
    "\n",
    "    if word in vocabulary_words_with_frequency:  # если слово есть в словаре норм слов, возвращаем его\n",
    "        return [word]\n",
    "    else:  # иначе – удаляем по 1 символу\n",
    "        for sym in word:\n",
    "            word_with_del = word.replace(sym, '')\n",
    "            wordforms.append(word_with_del)  # добавляем полученные словоформы в список\n",
    "        for wordform in wordforms:\n",
    "            if wordform in vocabulary_wrong_form_with_variants:  # если полученные словоформы есть в словаре ошибок, то добавляем их в новый список\n",
    "                wordforms_keys.extend(vocabulary_wrong_form_with_variants[wordform])\n",
    "\n",
    "        for candidate in wordforms_keys:  # проходимся по потенциальным кандидатам\n",
    "            if candidate not in candidates:  # если потенциальный кандидат не в списке кандидатов, то\n",
    "                candidates[candidate] = P(candidate)  # добавляем его в словарь кандидатов\n",
    "            else:\n",
    "                candidates[candidate] += 1\n",
    "\n",
    "        sorted_values = sorted(candidates, key=candidates.get)\n",
    "        return sorted_values\n",
    "\n",
    "\n",
    "def run(text):\n",
    "    correct_text = []\n",
    "    words = normalize(text)\n",
    "    i = 0\n",
    "    len_words = len(words)\n",
    "    print(words)\n",
    "    while i < len_words - 2:\n",
    "        local_words = [words[i], words[i + 1], words[i + 2]]\n",
    "        check_if_bad_word = -1\n",
    "        for index, word in enumerate(local_words):\n",
    "            if word not in vocabulary_words_with_frequency:\n",
    "                check_if_bad_word = index\n",
    "                break\n",
    "        if check_if_bad_word != -1:\n",
    "            print('BAD: ' + local_words[check_if_bad_word])\n",
    "            candidates = algoritm(local_words[check_if_bad_word])\n",
    "            is_fixed = False\n",
    "            print('Candidates: ' + str(candidates))\n",
    "            for cand in candidates:\n",
    "                local_words[check_if_bad_word] = cand\n",
    "                tg = \" \".join(local_words)\n",
    "                if cand in vocabulary_words_with_threegrams and tg in vocabulary_words_with_threegrams[cand]:\n",
    "                    correct_text.extend(local_words)\n",
    "                    is_fixed = True\n",
    "                    print(\"Успех! Заменили \" + words[i + check_if_bad_word] + \" на \" + local_words[check_if_bad_word])\n",
    "                    break\n",
    "            if not is_fixed:\n",
    "                local_words[check_if_bad_word] = words[i + check_if_bad_word]\n",
    "                print('!!! Не починили ' + local_words[check_if_bad_word])\n",
    "                correct_text.extend(local_words)\n",
    "            i = i + 3\n",
    "        else:\n",
    "            correct_text.append(local_words[0])\n",
    "            i = i + 1\n",
    "\n",
    "    return \" \".join(correct_text)\n",
    "\n",
    "\n",
    "print(run(bad))"
   ],
   "metadata": {
    "collapsed": false,
    "pycharm": {
     "name": "#%%\n",
     "is_executing": true
    }
   }
  },
  {
   "cell_type": "markdown",
   "source": [
    "Проверим на улучшение качества"
   ],
   "metadata": {
    "collapsed": false,
    "pycharm": {
     "name": "#%% md\n"
    }
   }
  },
  {
   "cell_type": "code",
   "execution_count": null,
   "outputs": [],
   "source": [
    "def align_words(sent_1, sent_2):\n",
    "    tokens_1 = sent_1.lower().split()\n",
    "    tokens_2 = sent_2.lower().split()\n",
    "\n",
    "    tokens_1 = [re.sub('(^\\W+|\\W+$)', '', token) for token in tokens_1 if (set(token) - punct)]\n",
    "    tokens_2 = [re.sub('(^\\W+|\\W+$)', '', token) for token in tokens_2 if (set(token) - punct)]\n",
    "\n",
    "    return list(zip(tokens_1, tokens_2))\n",
    "\n",
    "alignes = [align_words(g, b) for g, b in zip(good, bad)]\n",
    "\n",
    "correct = 0\n",
    "total = 0\n",
    "\n",
    "total_mistaken = 0\n",
    "mistaken_fixed = 0\n",
    "\n",
    "total_correct = 0\n",
    "correct_broken = 0\n",
    "\n",
    "for align in alignes:\n",
    "    correct_sentence = [tok[0] for tok in align]\n",
    "    bad_sentence = [tok[1] for tok in align]\n",
    "    predicted_sentence = algoritm_for_text(bad_sentence)\n",
    "    for i in range(len(predicted_sentence)):\n",
    "        if predicted_sentence[i] == correct_sentence[i]:\n",
    "            correct += 1\n",
    "        total += 1\n",
    "        \n",
    "        if correct_sentence[i] == bad_sentence[i]:\n",
    "            total_correct += 1\n",
    "            if correct_sentence[i] != predicted_sentence[i]:\n",
    "                correct_broken += 1\n",
    "        else:\n",
    "            total_mistaken += 1\n",
    "            if correct_sentence[i] == predicted_sentence[i]:\n",
    "                mistaken_fixed += 1\n",
    "\n",
    "print(correct/total)\n",
    "print(mistaken_fixed/total_mistaken)\n",
    "print(correct_broken/total_correct)"
   ],
   "metadata": {
    "collapsed": false,
    "pycharm": {
     "name": "#%%\n",
     "is_executing": true
    }
   }
  }
 ],
 "metadata": {
  "language_info": {
   "codemirror_mode": {
    "name": "ipython",
    "version": 2
   },
   "file_extension": ".py",
   "mimetype": "text/x-python",
   "name": "python",
   "nbconvert_exporter": "python",
   "pygments_lexer": "ipython2",
   "version": "2.7.6"
  },
  "kernelspec": {
   "name": "python3",
   "language": "python",
   "display_name": "Python 3"
  },
  "pycharm": {
   "stem_cell": {
    "cell_type": "raw",
    "source": [],
    "metadata": {
     "collapsed": false
    }
   }
  }
 },
 "nbformat": 4,
 "nbformat_minor": 0
}