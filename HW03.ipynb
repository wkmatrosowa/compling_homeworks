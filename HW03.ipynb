{
 "cells": [
  {
   "cell_type": "markdown",
   "metadata": {
    "collapsed": true,
    "pycharm": {
     "name": "#%% md\n"
    }
   },
   "source": [
    "Задание 1.\n",
    "\n",
    "Реализация алгоритма SymSpell"
   ]
  },
  {
   "cell_type": "code",
   "execution_count": 34,
   "outputs": [
    {
     "data": {
      "text/plain": "['кашка']"
     },
     "metadata": {},
     "output_type": "execute_result",
     "execution_count": 34
    }
   ],
   "source": [
    "import os, re\n",
    "from string import punctuation\n",
    "import numpy as np\n",
    "import json\n",
    "import operator\n",
    "import textdistance\n",
    "from collections import Counter\n",
    "from pprint import pprint\n",
    "from nltk import sent_tokenize\n",
    "\n",
    "punctuation += \"«»—…“”\"\n",
    "punct = set(punctuation)\n",
    "import gzip\n",
    "import csv\n",
    "\n",
    "from sklearn.metrics import classification_report, accuracy_score\n",
    "\n",
    "# corpus = open('corpus_5000.txt', 'w')\n",
    "# with gzip.open('lenta-ru-news.csv.gz', 'rt') as archive:\n",
    "#     reader = csv.reader(archive, delimiter=',', quotechar='\"')\n",
    "#     for i, line in enumerate(reader):\n",
    "#         if i < 5000: \n",
    "#             corpus.write(line[2].replace('\\xa0', ' ') + '\\n')\n",
    "\n",
    "def normalize(text):\n",
    "    normalized_text = [(word.strip(punctuation)) for word \\\n",
    "                       in text.lower().split()]\n",
    "    normalized_text = [word for word in normalized_text if word]\n",
    "    return normalized_text\n",
    "\n",
    "\n",
    "corpus = []\n",
    "for text in open('corpus_5000.txt').read().splitlines():\n",
    "    sents = sent_tokenize(text)\n",
    "    norm_sents = [normalize(sent) for sent in sents]\n",
    "    corpus += norm_sents\n",
    "\n",
    "WORDS = Counter()\n",
    "for sent in corpus:\n",
    "    WORDS.update(sent)\n",
    "\n",
    "N = sum(WORDS.values())\n",
    "def P(word, N=N):\n",
    "    \"Вычисляем вероятность слова\"\n",
    "    return WORDS[word] / N\n",
    "\n",
    "vocabulary1 = {} \n",
    "for sent in corpus:\n",
    "    for word in sent:\n",
    "        if word not in vocabulary1:\n",
    "            vocabulary1[word] = P(word)\n",
    "        else:\n",
    "            vocabulary1[word] += 1\n",
    "\n",
    "vocabulary2 = {}  \n",
    "for key in vocabulary1.keys():\n",
    "    for sym in key:\n",
    "        word_with_del = key.replace(sym, '')\n",
    "        if word_with_del in vocabulary2:\n",
    "            vocabulary2[word_with_del].append(key)\n",
    "        else:\n",
    "            vocabulary2[word_with_del] = [key]\n",
    "\n",
    "def algoritm(word):\n",
    "\n",
    "    wordforms = []\n",
    "    wordforms_keys = []\n",
    "    candidates = {}\n",
    "    best_candidate = []\n",
    "    \n",
    "    if word in vocabulary1:  #если слово есть в словаре норм слов, возвращаем его\n",
    "        return word\n",
    "    else:  #иначе – удаляем по 1 символу\n",
    "        for sym in word:\n",
    "            word_with_del = word.replace(sym, '')\n",
    "            wordforms.append(word_with_del)  # добавляем полученные словоформы в список\n",
    "        for wordform in wordforms:\n",
    "            if wordform in vocabulary2:  # если полученные словоформы есть в словаре ошибок, то добавляем их в новый список\n",
    "                wordforms_keys.extend(vocabulary2[wordform])\n",
    "                \n",
    "        for candidate in wordforms_keys: #проходимся по потенциальным кандидатам\n",
    "            if candidate not in candidates: #если потенциальный кандидат не в списке кандидатов, то\n",
    "                candidates[candidate] = P(candidate) #добавляем его в словарь кандидатов\n",
    "            else:\n",
    "                candidates[candidate] += 1\n",
    "\n",
    "        sorted_values = sorted(candidates, key=candidates.get)\n",
    "        best_candidate.append(sorted_values[0])\n",
    "        return best_candidate\n",
    "\n",
    "\n",
    "algoritm('кафка')"
   ],
   "metadata": {
    "collapsed": false,
    "pycharm": {
     "name": "#%%\n",
     "is_executing": false
    }
   }
  },
  {
   "cell_type": "markdown",
   "source": [
    "Метрики качества"
   ],
   "metadata": {
    "collapsed": false,
    "pycharm": {
     "name": "#%% md\n"
    }
   }
  },
  {
   "cell_type": "code",
   "execution_count": 3,
   "outputs": [
    {
     "traceback": [
      "\u001b[0;31m---------------------------------------------------------------------------\u001b[0m",
      "\u001b[0;31mNameError\u001b[0m                                 Traceback (most recent call last)",
      "\u001b[0;32m<ipython-input-3-eca8ce6cfb68>\u001b[0m in \u001b[0;36m<module>\u001b[0;34m\u001b[0m\n\u001b[1;32m     10\u001b[0m \u001b[0mcashed\u001b[0m \u001b[0;34m=\u001b[0m \u001b[0;34m{\u001b[0m\u001b[0;34m}\u001b[0m\u001b[0;34m\u001b[0m\u001b[0;34m\u001b[0m\u001b[0m\n\u001b[1;32m     11\u001b[0m \u001b[0;32mfor\u001b[0m \u001b[0mi\u001b[0m \u001b[0;32min\u001b[0m \u001b[0mrange\u001b[0m\u001b[0;34m(\u001b[0m\u001b[0mlen\u001b[0m\u001b[0;34m(\u001b[0m\u001b[0mtrue\u001b[0m\u001b[0;34m)\u001b[0m\u001b[0;34m)\u001b[0m\u001b[0;34m:\u001b[0m\u001b[0;34m\u001b[0m\u001b[0;34m\u001b[0m\u001b[0m\n\u001b[0;32m---> 12\u001b[0;31m     \u001b[0mword_pairs\u001b[0m \u001b[0;34m=\u001b[0m \u001b[0malign_words\u001b[0m\u001b[0;34m(\u001b[0m\u001b[0mtrue\u001b[0m\u001b[0;34m[\u001b[0m\u001b[0mi\u001b[0m\u001b[0;34m]\u001b[0m\u001b[0;34m,\u001b[0m \u001b[0mbad\u001b[0m\u001b[0;34m[\u001b[0m\u001b[0mi\u001b[0m\u001b[0;34m]\u001b[0m\u001b[0;34m)\u001b[0m\u001b[0;34m\u001b[0m\u001b[0;34m\u001b[0m\u001b[0m\n\u001b[0m\u001b[1;32m     13\u001b[0m     \u001b[0;32mfor\u001b[0m \u001b[0mpair\u001b[0m \u001b[0;32min\u001b[0m \u001b[0mword_pairs\u001b[0m\u001b[0;34m:\u001b[0m\u001b[0;34m\u001b[0m\u001b[0;34m\u001b[0m\u001b[0m\n\u001b[1;32m     14\u001b[0m         \u001b[0mpredicted\u001b[0m \u001b[0;34m=\u001b[0m \u001b[0mcashed\u001b[0m\u001b[0;34m.\u001b[0m\u001b[0mget\u001b[0m\u001b[0;34m(\u001b[0m\u001b[0mpair\u001b[0m\u001b[0;34m[\u001b[0m\u001b[0;36m1\u001b[0m\u001b[0;34m]\u001b[0m\u001b[0;34m,\u001b[0m \u001b[0mcorrection\u001b[0m\u001b[0;34m(\u001b[0m\u001b[0mpair\u001b[0m\u001b[0;34m[\u001b[0m\u001b[0;36m1\u001b[0m\u001b[0;34m]\u001b[0m\u001b[0;34m)\u001b[0m\u001b[0;34m)\u001b[0m\u001b[0;34m\u001b[0m\u001b[0;34m\u001b[0m\u001b[0m\n",
      "\u001b[0;31mNameError\u001b[0m: name 'align_words' is not defined"
     ],
     "ename": "NameError",
     "evalue": "name 'align_words' is not defined",
     "output_type": "error"
    }
   ],
   "source": [
    "bad = open('mistakes.txt').read().splitlines()\n",
    "true = open('correct.txt').read().splitlines()\n",
    "\n",
    "def align_words(sent_1, sent_2):\n",
    "    tokens_1 = sent_1.lower().split()\n",
    "    tokens_2 = sent_2.lower().split()\n",
    "    \n",
    "    tokens_1 = [re.sub('(^\\W+|\\W+$)', '', token) for token in tokens_1 if (set(token)-punct)]\n",
    "    tokens_2 = [re.sub('(^\\W+|\\W+$)', '', token) for token in tokens_2 if (set(token)-punct)]\n",
    "    \n",
    "    return list(zip(tokens_1, tokens_2))\n",
    "\n",
    "y_true = []\n",
    "y_pred = []\n",
    "\n",
    "for i in range(len(true)):\n",
    "    word_pairs = align_words(true[i], bad[i])\n",
    "    for pair in word_pairs:\n",
    "        if pair[0] == pair[1]:\n",
    "            y_true.append(0)\n",
    "        else:\n",
    "            y_true.append(1)\n",
    "        \n",
    "        y_pred.append(predict_mistaken(pair[1], vocab))\n",
    "\n",
    "correct = 0\n",
    "total = 0\n",
    "\n",
    "total_mistaken = 0\n",
    "mistaken_fixed = 0\n",
    "\n",
    "total_correct = 0\n",
    "correct_broken = 0\n",
    "\n",
    "cashed = {}\n",
    "for i in range(len(true)):\n",
    "    word_pairs = align_words(true[i], bad[i])\n",
    "    for pair in word_pairs:\n",
    "        predicted = cashed.get(pair[1], correction(pair[1]))\n",
    "        cashed[pair[0]] = predicted\n",
    "        if predicted == pair[0]:\n",
    "            correct += 1\n",
    "        total += 1\n",
    "        \n",
    "        if pair[0] == pair[1]:\n",
    "            total_correct += 1\n",
    "            if pair[0] !=  predicted:\n",
    "                correct_broken += 1\n",
    "        else:\n",
    "            total_mistaken += 1\n",
    "            if pair[0] == predicted:\n",
    "                mistaken_fixed += 1\n",
    "        \n",
    "    if not i % 100:\n",
    "        print(i)"
   ],
   "metadata": {
    "collapsed": false,
    "pycharm": {
     "name": "#%%\n",
     "is_executing": false
    }
   }
  },
  {
   "cell_type": "markdown",
   "source": [
    "Задание 2\n",
    "\n",
    "Реализация алгоритма с триграммной моделью"
   ],
   "metadata": {
    "collapsed": false,
    "pycharm": {
     "name": "#%% md\n"
    }
   }
  },
  {
   "cell_type": "code",
   "execution_count": null,
   "outputs": [],
   "source": [
    "import nltk\n",
    "from gensim.models.phrases import Phraser, Phrases\n",
    "from nltk.tokenize import sent_tokenize\n",
    "nltk.download('punkt')\n",
    "nltk.download('stopwords')\n",
    "from nltk.corpus import stopwords\n",
    "from collections import Counter\n",
    "from string import punctuation\n",
    "\n",
    "import numpy as np\n",
    "\n",
    "start = '<start>'\n",
    "end = '<end>'\n",
    "\n",
    "def ngrammer(tokens, n=2):\n",
    "    ngrams = []\n",
    "    for i in range(0, len(tokens) - n + 1):\n",
    "        ngrams.append(' '.join(tokens[i:i + n]))\n",
    "    return ngrams"
   ],
   "metadata": {
    "collapsed": false,
    "pycharm": {
     "name": "#%%\n"
    }
   }
  }
 ],
 "metadata": {
  "language_info": {
   "codemirror_mode": {
    "name": "ipython",
    "version": 2
   },
   "file_extension": ".py",
   "mimetype": "text/x-python",
   "name": "python",
   "nbconvert_exporter": "python",
   "pygments_lexer": "ipython2",
   "version": "2.7.6"
  },
  "kernelspec": {
   "name": "python3",
   "language": "python",
   "display_name": "Python 3"
  },
  "pycharm": {
   "stem_cell": {
    "cell_type": "raw",
    "source": [],
    "metadata": {
     "collapsed": false
    }
   }
  }
 },
 "nbformat": 4,
 "nbformat_minor": 0
}